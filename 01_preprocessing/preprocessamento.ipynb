{
  "nbformat": 4,
  "nbformat_minor": 0,
  "metadata": {
    "colab": {
      "provenance": []
    },
    "kernelspec": {
      "name": "python3",
      "display_name": "Python 3"
    },
    "language_info": {
      "name": "python"
    }
  },
  "cells": [
    {
      "cell_type": "code",
      "execution_count": 2,
      "metadata": {
        "id": "cYzAQMxOOvij"
      },
      "outputs": [],
      "source": [
        "import numpy as np\n",
        "import pandas as pd\n",
        "import requests\n",
        "from sklearn.neighbors import KNeighborsClassifier\n",
        "\n",
        "DEV_KEY = \"M.L. - Maromba Learning\"\n",
        "URL = \"https://aydanomachado.com/mlclass/01_Preprocessing.php\"\n",
        "\n",
        "data_train = pd.read_csv(\"diabetes_dataset.csv\")\n",
        "data_app = pd.read_csv(\"diabetes_app.csv\")\n",
        "\n",
        "feature_cols = ['Pregnancies', 'Glucose', 'BloodPressure', 'SkinThickness',\n",
        "                'Insulin', 'BMI', 'DiabetesPedigreeFunction', 'Age']\n",
        "\n",
        "def showNulls(data):\n",
        "  print(data.isnull().sum())\n",
        "\n",
        "\n",
        "def getDataFrameFromArray(arr):\n",
        "  l, c = arr.shape\n",
        "  df = None\n",
        "  if c == 8:\n",
        "    df = pd.DataFrame(arr, columns=feature_cols)\n",
        "    df[\"Outcome\"] = data_train[\"Outcome\"]\n",
        "  else:\n",
        "    df = pd.DataFrame(arr, columns=data_train.columns)\n",
        "  df[\"Outcome\"] = df[\"Outcome\"].astype(int)\n",
        "  return df"
      ]
    },
    {
      "cell_type": "code",
      "source": [
        "def getKNNModel(data):\n",
        "  X = data[feature_cols]\n",
        "  y = data.Outcome\n",
        "\n",
        "  neigh = KNeighborsClassifier(n_neighbors=3)\n",
        "  neigh.fit(X, y)\n",
        "\n",
        "  return neigh\n",
        "\n",
        "def getPrediction(knn):\n",
        "  y_pred = knn.predict(data_app[feature_cols])\n",
        "  return y_pred\n",
        "\n",
        "def sendData(y_pred):\n",
        "  data = {'dev_key':DEV_KEY,\n",
        "        'predictions':pd.Series(y_pred).to_json(orient='values')}\n",
        "  r = requests.post(url = URL, data = data)\n",
        "  pastebin_url = r.text\n",
        "  print(\" - Resposta do servidor:\\n\", r.text, \"\\n\")\n",
        "\n",
        "\n",
        "def sendToProfessor(data):\n",
        "  knn = getKNNModel(data)\n",
        "  y_pred = getPrediction(knn)\n",
        "  sendData(y_pred)\n",
        "\n"
      ],
      "metadata": {
        "id": "Ko-joIDlSH8M"
      },
      "execution_count": 3,
      "outputs": []
    },
    {
      "cell_type": "markdown",
      "source": [
        "## Verify null values"
      ],
      "metadata": {
        "id": "I-wU7PZaRihr"
      }
    },
    {
      "cell_type": "code",
      "source": [
        "data_train.isnull().sum()"
      ],
      "metadata": {
        "colab": {
          "base_uri": "https://localhost:8080/"
        },
        "id": "qSySyQ5xRJdt",
        "outputId": "7664b58c-b0be-4677-ec47-1b3b51bb27c3"
      },
      "execution_count": null,
      "outputs": [
        {
          "output_type": "execute_result",
          "data": {
            "text/plain": [
              "Pregnancies                   0\n",
              "Glucose                       5\n",
              "BloodPressure                35\n",
              "SkinThickness               227\n",
              "Insulin                     374\n",
              "BMI                          11\n",
              "DiabetesPedigreeFunction      0\n",
              "Age                           0\n",
              "Outcome                       0\n",
              "dtype: int64"
            ]
          },
          "metadata": {},
          "execution_count": 16
        }
      ]
    },
    {
      "cell_type": "markdown",
      "source": [
        "## Approach 1: drop null values"
      ],
      "metadata": {
        "id": "KsyNj1wZSATR"
      }
    },
    {
      "cell_type": "code",
      "source": [
        "not_null = data_train.dropna()\n",
        "\n",
        "print(not_null.isnull().sum())\n",
        "\n",
        "sendToProfessor(not_null)"
      ],
      "metadata": {
        "colab": {
          "base_uri": "https://localhost:8080/"
        },
        "id": "f5X-0v1tQ34T",
        "outputId": "8ea5dd26-6142-45cb-fa3d-97f178db0637"
      },
      "execution_count": null,
      "outputs": [
        {
          "output_type": "stream",
          "name": "stdout",
          "text": [
            "Pregnancies                 0\n",
            "Glucose                     0\n",
            "BloodPressure               0\n",
            "SkinThickness               0\n",
            "Insulin                     0\n",
            "BMI                         0\n",
            "DiabetesPedigreeFunction    0\n",
            "Age                         0\n",
            "Outcome                     0\n",
            "dtype: int64\n",
            " - Resposta do servidor:\n",
            " {\"status\":\"success\",\"dev_key\":\"M.L. - Maromba Learning\",\"accuracy\":0.5612244897959183,\"old_accuracy\":0.63265306122449} \n",
            "\n"
          ]
        }
      ]
    },
    {
      "cell_type": "markdown",
      "source": [
        "## Approach 2: fill null values"
      ],
      "metadata": {
        "id": "O8T7n22AUILF"
      }
    },
    {
      "cell_type": "markdown",
      "source": [
        "### Fill with 0"
      ],
      "metadata": {
        "id": "y6UFW9rNUfu3"
      }
    },
    {
      "cell_type": "code",
      "source": [
        "zero_filled = data_train.fillna(0)\n",
        "\n",
        "sendToProfessor(zero_filled)"
      ],
      "metadata": {
        "colab": {
          "base_uri": "https://localhost:8080/"
        },
        "id": "qvP4M2tUUMwl",
        "outputId": "e853548d-23f3-4fac-ff69-2a34e3ccaa72"
      },
      "execution_count": null,
      "outputs": [
        {
          "output_type": "stream",
          "name": "stdout",
          "text": [
            " - Resposta do servidor:\n",
            " {\"status\":\"success\",\"dev_key\":\"M.L. - Maromba Learning\",\"accuracy\":0.5561224489795918,\"old_accuracy\":0.63265306122449} \n",
            "\n"
          ]
        }
      ]
    },
    {
      "cell_type": "markdown",
      "source": [
        "### Forward fill"
      ],
      "metadata": {
        "id": "JQxPOivJUzpV"
      }
    },
    {
      "cell_type": "code",
      "source": [
        "# this propagates the previous value forward\n",
        "forward_fill = data_train.fillna(method=\"ffill\")\n",
        "\n",
        "showNulls(forward_fill)\n"
      ],
      "metadata": {
        "colab": {
          "base_uri": "https://localhost:8080/"
        },
        "id": "MCW9vfQWU1kM",
        "outputId": "528341b8-52ac-4225-bf0b-d1f7577dbc88"
      },
      "execution_count": null,
      "outputs": [
        {
          "output_type": "stream",
          "name": "stdout",
          "text": [
            "Pregnancies                 0\n",
            "Glucose                     0\n",
            "BloodPressure               0\n",
            "SkinThickness               0\n",
            "Insulin                     3\n",
            "BMI                         0\n",
            "DiabetesPedigreeFunction    0\n",
            "Age                         0\n",
            "Outcome                     0\n",
            "dtype: int64\n"
          ]
        }
      ]
    },
    {
      "cell_type": "markdown",
      "source": [
        "The first 3 insuline values are null, so we will use  back-fill to fill them"
      ],
      "metadata": {
        "id": "-kat-nLAWHgz"
      }
    },
    {
      "cell_type": "code",
      "source": [
        "forward_fill = forward_fill.fillna(method=\"bfill\")\n",
        "showNulls(forward_fill)"
      ],
      "metadata": {
        "colab": {
          "base_uri": "https://localhost:8080/"
        },
        "id": "Oi0_9k3IWQOr",
        "outputId": "ed96d8a7-35a1-40a8-b4db-b9eaf6921591"
      },
      "execution_count": null,
      "outputs": [
        {
          "output_type": "stream",
          "name": "stdout",
          "text": [
            "Pregnancies                 0\n",
            "Glucose                     0\n",
            "BloodPressure               0\n",
            "SkinThickness               0\n",
            "Insulin                     0\n",
            "BMI                         0\n",
            "DiabetesPedigreeFunction    0\n",
            "Age                         0\n",
            "Outcome                     0\n",
            "dtype: int64\n"
          ]
        }
      ]
    },
    {
      "cell_type": "code",
      "source": [
        "sendToProfessor(forward_fill)"
      ],
      "metadata": {
        "colab": {
          "base_uri": "https://localhost:8080/"
        },
        "id": "f9mp1VQ8WYXT",
        "outputId": "fb658d45-5bc9-4155-aaf6-1a9e1ea7df8e"
      },
      "execution_count": null,
      "outputs": [
        {
          "output_type": "stream",
          "name": "stdout",
          "text": [
            " - Resposta do servidor:\n",
            " {\"status\":\"success\",\"dev_key\":\"M.L. - Maromba Learning\",\"accuracy\":0.5510204081632653,\"old_accuracy\":0.63265306122449} \n",
            "\n"
          ]
        }
      ]
    },
    {
      "cell_type": "markdown",
      "source": [
        "### Back-fill"
      ],
      "metadata": {
        "id": "YkLJySTBVU3e"
      }
    },
    {
      "cell_type": "code",
      "source": [
        "back_fill = data_train.fillna(method=\"bfill\")\n",
        "\n",
        "showNulls(back_fill)"
      ],
      "metadata": {
        "colab": {
          "base_uri": "https://localhost:8080/"
        },
        "id": "vasv1ckuVTit",
        "outputId": "c6f6353e-0da0-4243-8fd2-9160c4dee95d"
      },
      "execution_count": null,
      "outputs": [
        {
          "output_type": "stream",
          "name": "stdout",
          "text": [
            "Pregnancies                 0\n",
            "Glucose                     0\n",
            "BloodPressure               0\n",
            "SkinThickness               0\n",
            "Insulin                     2\n",
            "BMI                         0\n",
            "DiabetesPedigreeFunction    0\n",
            "Age                         0\n",
            "Outcome                     0\n",
            "dtype: int64\n"
          ]
        }
      ]
    },
    {
      "cell_type": "markdown",
      "source": [
        "The last two values of Insulin are null, so we will forward-fill them"
      ],
      "metadata": {
        "id": "2GfxP5zxWzaK"
      }
    },
    {
      "cell_type": "code",
      "source": [
        "back_fill = back_fill.fillna(method=\"ffill\")\n",
        "\n",
        "showNulls(back_fill)"
      ],
      "metadata": {
        "colab": {
          "base_uri": "https://localhost:8080/"
        },
        "id": "R5un7x0jWzLT",
        "outputId": "dd5f9219-c29c-46bb-b0a4-05f07dc5cd89"
      },
      "execution_count": null,
      "outputs": [
        {
          "output_type": "stream",
          "name": "stdout",
          "text": [
            "Pregnancies                 0\n",
            "Glucose                     0\n",
            "BloodPressure               0\n",
            "SkinThickness               0\n",
            "Insulin                     0\n",
            "BMI                         0\n",
            "DiabetesPedigreeFunction    0\n",
            "Age                         0\n",
            "Outcome                     0\n",
            "dtype: int64\n"
          ]
        }
      ]
    },
    {
      "cell_type": "code",
      "source": [
        "sendToProfessor(back_fill)"
      ],
      "metadata": {
        "colab": {
          "base_uri": "https://localhost:8080/"
        },
        "id": "xaB9G6NYW_o7",
        "outputId": "e012b1ec-c918-49c5-ac65-2e7553ef8955"
      },
      "execution_count": null,
      "outputs": [
        {
          "output_type": "stream",
          "name": "stdout",
          "text": [
            " - Resposta do servidor:\n",
            " {\"status\":\"success\",\"dev_key\":\"M.L. - Maromba Learning\",\"accuracy\":0.576530612244898,\"old_accuracy\":0.63265306122449} \n",
            "\n"
          ]
        }
      ]
    },
    {
      "cell_type": "markdown",
      "source": [
        "## Approach 3: Imputation"
      ],
      "metadata": {
        "id": "xbp1sBrmYQz1"
      }
    },
    {
      "cell_type": "code",
      "source": [
        "from sklearn.impute import SimpleImputer"
      ],
      "metadata": {
        "id": "SSAXeU3_YSq6"
      },
      "execution_count": 6,
      "outputs": []
    },
    {
      "cell_type": "markdown",
      "source": [
        "### Replace null with mean"
      ],
      "metadata": {
        "id": "uj9chSX3Yluw"
      }
    },
    {
      "cell_type": "code",
      "source": [
        "imp_mean = SimpleImputer(strategy=\"mean\")\n",
        "imputed_mean = imp_mean.fit_transform(data_train)\n",
        "data_imputed_mean = getDataFrameFromArray(imputed_mean)"
      ],
      "metadata": {
        "id": "8iJC035NYkHy"
      },
      "execution_count": 7,
      "outputs": []
    },
    {
      "cell_type": "code",
      "source": [
        "sendToProfessor(data_imputed_mean)"
      ],
      "metadata": {
        "colab": {
          "base_uri": "https://localhost:8080/"
        },
        "id": "U8cCnBWGb3xH",
        "outputId": "74ab4796-41ef-40bc-f71c-a4a6dac58eb7"
      },
      "execution_count": null,
      "outputs": [
        {
          "output_type": "stream",
          "name": "stdout",
          "text": [
            " - Resposta do servidor:\n",
            " {\"status\":\"success\",\"dev_key\":\"M.L. - Maromba Learning\",\"accuracy\":0.5714285714285714,\"old_accuracy\":0.63265306122449} \n",
            "\n"
          ]
        }
      ]
    },
    {
      "cell_type": "markdown",
      "source": [
        "### Replace with median"
      ],
      "metadata": {
        "id": "pAow3QqvcK00"
      }
    },
    {
      "cell_type": "code",
      "source": [
        "imp_median = SimpleImputer(strategy=\"median\")\n",
        "imputed_median = imp_median.fit_transform(data_train)\n",
        "data_imputed_median = getDataFrameFromArray(imputed_median)"
      ],
      "metadata": {
        "id": "dPViLAc_cNG-"
      },
      "execution_count": null,
      "outputs": []
    },
    {
      "cell_type": "code",
      "source": [
        "sendToProfessor(data_imputed_median)"
      ],
      "metadata": {
        "colab": {
          "base_uri": "https://localhost:8080/"
        },
        "id": "J1K6cYXzcW0F",
        "outputId": "35fc56a3-546d-4fae-dc66-5af3736869ce"
      },
      "execution_count": null,
      "outputs": [
        {
          "output_type": "stream",
          "name": "stdout",
          "text": [
            " - Resposta do servidor:\n",
            " {\"status\":\"success\",\"dev_key\":\"M.L. - Maromba Learning\",\"accuracy\":0.576530612244898,\"old_accuracy\":0.63265306122449} \n",
            "\n"
          ]
        }
      ]
    },
    {
      "cell_type": "markdown",
      "source": [
        "### Replace with the most frequent value"
      ],
      "metadata": {
        "id": "yn95IrlDceRM"
      }
    },
    {
      "cell_type": "code",
      "source": [
        "imp_mostFrequent = SimpleImputer(strategy=\"most_frequent\")\n",
        "imputed_mf = imp_mostFrequent.fit_transform(data_train)\n",
        "data_imputed_mf = getDataFrameFromArray(imputed_mf)"
      ],
      "metadata": {
        "id": "YNO_iLB4chDF"
      },
      "execution_count": 8,
      "outputs": []
    },
    {
      "cell_type": "code",
      "source": [
        "sendToProfessor(data_imputed_mf)"
      ],
      "metadata": {
        "colab": {
          "base_uri": "https://localhost:8080/"
        },
        "id": "E9sZhJw0cvTl",
        "outputId": "4f335931-bfdd-4113-ca20-d00f7ab8bb18"
      },
      "execution_count": null,
      "outputs": [
        {
          "output_type": "stream",
          "name": "stdout",
          "text": [
            " - Resposta do servidor:\n",
            " {\"status\":\"success\",\"dev_key\":\"M.L. - Maromba Learning\",\"accuracy\":0.5867346938775511,\"old_accuracy\":0.63265306122449} \n",
            "\n"
          ]
        }
      ]
    },
    {
      "cell_type": "markdown",
      "source": [
        "## Approach 4: Scalling"
      ],
      "metadata": {
        "id": "-iy1FNVVdueI"
      }
    },
    {
      "cell_type": "code",
      "source": [
        "from sklearn.preprocessing import MinMaxScaler\n",
        "\n",
        "scaler = MinMaxScaler()\n",
        "scaled = scaler.fit_transform(data_imputed_mf[feature_cols])\n",
        "\n",
        "scaled_df = getDataFrameFromArray(scaled)\n",
        "scaled_df"
      ],
      "metadata": {
        "colab": {
          "base_uri": "https://localhost:8080/",
          "height": 444
        },
        "id": "88ARXQfbdyT-",
        "outputId": "6eb3fe2a-713a-4d5b-8908-200c3bb26b4e"
      },
      "execution_count": 9,
      "outputs": [
        {
          "output_type": "execute_result",
          "data": {
            "text/plain": [
              "     Pregnancies   Glucose  BloodPressure  SkinThickness   Insulin       BMI  \\\n",
              "0       0.352941  0.670968       0.456522       0.304348  0.122253  0.393862   \n",
              "1       0.058824  0.264516       0.391304       0.239130  0.122253  0.214834   \n",
              "2       0.470588  0.896774       0.369565       0.271739  0.122253  0.130435   \n",
              "3       0.000000  0.600000       0.108696       0.304348  0.208791  0.636829   \n",
              "4       0.294118  0.464516       0.478261       0.271739  0.122253  0.189258   \n",
              "..           ...       ...            ...            ...       ...       ...   \n",
              "567     0.529412  0.290323       0.347826       0.271739  0.122253  0.109974   \n",
              "568     0.117647  0.503226       0.434783       0.217391  0.122253  0.475703   \n",
              "569     0.294118  0.496774       0.456522       0.173913  0.131868  0.204604   \n",
              "570     0.058824  0.529032       0.326087       0.271739  0.122253  0.304348   \n",
              "571     0.058824  0.316129       0.434783       0.260870  0.122253  0.312020   \n",
              "\n",
              "     DiabetesPedigreeFunction       Age  Outcome  \n",
              "0                    0.243892  0.483333        1  \n",
              "1                    0.121279  0.166667        0  \n",
              "2                    0.263883  0.183333        1  \n",
              "3                    0.981786  0.200000        1  \n",
              "4                    0.054642  0.150000        0  \n",
              "..                        ...       ...      ...  \n",
              "567                  0.028432  0.200000        0  \n",
              "568                  0.116393  0.100000        0  \n",
              "569                  0.074189  0.150000        0  \n",
              "570                  0.120391  0.433333        1  \n",
              "571                  0.105287  0.033333        0  \n",
              "\n",
              "[572 rows x 9 columns]"
            ],
            "text/html": [
              "\n",
              "  <div id=\"df-678b5471-0575-449e-b119-9ac71580219d\" class=\"colab-df-container\">\n",
              "    <div>\n",
              "<style scoped>\n",
              "    .dataframe tbody tr th:only-of-type {\n",
              "        vertical-align: middle;\n",
              "    }\n",
              "\n",
              "    .dataframe tbody tr th {\n",
              "        vertical-align: top;\n",
              "    }\n",
              "\n",
              "    .dataframe thead th {\n",
              "        text-align: right;\n",
              "    }\n",
              "</style>\n",
              "<table border=\"1\" class=\"dataframe\">\n",
              "  <thead>\n",
              "    <tr style=\"text-align: right;\">\n",
              "      <th></th>\n",
              "      <th>Pregnancies</th>\n",
              "      <th>Glucose</th>\n",
              "      <th>BloodPressure</th>\n",
              "      <th>SkinThickness</th>\n",
              "      <th>Insulin</th>\n",
              "      <th>BMI</th>\n",
              "      <th>DiabetesPedigreeFunction</th>\n",
              "      <th>Age</th>\n",
              "      <th>Outcome</th>\n",
              "    </tr>\n",
              "  </thead>\n",
              "  <tbody>\n",
              "    <tr>\n",
              "      <th>0</th>\n",
              "      <td>0.352941</td>\n",
              "      <td>0.670968</td>\n",
              "      <td>0.456522</td>\n",
              "      <td>0.304348</td>\n",
              "      <td>0.122253</td>\n",
              "      <td>0.393862</td>\n",
              "      <td>0.243892</td>\n",
              "      <td>0.483333</td>\n",
              "      <td>1</td>\n",
              "    </tr>\n",
              "    <tr>\n",
              "      <th>1</th>\n",
              "      <td>0.058824</td>\n",
              "      <td>0.264516</td>\n",
              "      <td>0.391304</td>\n",
              "      <td>0.239130</td>\n",
              "      <td>0.122253</td>\n",
              "      <td>0.214834</td>\n",
              "      <td>0.121279</td>\n",
              "      <td>0.166667</td>\n",
              "      <td>0</td>\n",
              "    </tr>\n",
              "    <tr>\n",
              "      <th>2</th>\n",
              "      <td>0.470588</td>\n",
              "      <td>0.896774</td>\n",
              "      <td>0.369565</td>\n",
              "      <td>0.271739</td>\n",
              "      <td>0.122253</td>\n",
              "      <td>0.130435</td>\n",
              "      <td>0.263883</td>\n",
              "      <td>0.183333</td>\n",
              "      <td>1</td>\n",
              "    </tr>\n",
              "    <tr>\n",
              "      <th>3</th>\n",
              "      <td>0.000000</td>\n",
              "      <td>0.600000</td>\n",
              "      <td>0.108696</td>\n",
              "      <td>0.304348</td>\n",
              "      <td>0.208791</td>\n",
              "      <td>0.636829</td>\n",
              "      <td>0.981786</td>\n",
              "      <td>0.200000</td>\n",
              "      <td>1</td>\n",
              "    </tr>\n",
              "    <tr>\n",
              "      <th>4</th>\n",
              "      <td>0.294118</td>\n",
              "      <td>0.464516</td>\n",
              "      <td>0.478261</td>\n",
              "      <td>0.271739</td>\n",
              "      <td>0.122253</td>\n",
              "      <td>0.189258</td>\n",
              "      <td>0.054642</td>\n",
              "      <td>0.150000</td>\n",
              "      <td>0</td>\n",
              "    </tr>\n",
              "    <tr>\n",
              "      <th>...</th>\n",
              "      <td>...</td>\n",
              "      <td>...</td>\n",
              "      <td>...</td>\n",
              "      <td>...</td>\n",
              "      <td>...</td>\n",
              "      <td>...</td>\n",
              "      <td>...</td>\n",
              "      <td>...</td>\n",
              "      <td>...</td>\n",
              "    </tr>\n",
              "    <tr>\n",
              "      <th>567</th>\n",
              "      <td>0.529412</td>\n",
              "      <td>0.290323</td>\n",
              "      <td>0.347826</td>\n",
              "      <td>0.271739</td>\n",
              "      <td>0.122253</td>\n",
              "      <td>0.109974</td>\n",
              "      <td>0.028432</td>\n",
              "      <td>0.200000</td>\n",
              "      <td>0</td>\n",
              "    </tr>\n",
              "    <tr>\n",
              "      <th>568</th>\n",
              "      <td>0.117647</td>\n",
              "      <td>0.503226</td>\n",
              "      <td>0.434783</td>\n",
              "      <td>0.217391</td>\n",
              "      <td>0.122253</td>\n",
              "      <td>0.475703</td>\n",
              "      <td>0.116393</td>\n",
              "      <td>0.100000</td>\n",
              "      <td>0</td>\n",
              "    </tr>\n",
              "    <tr>\n",
              "      <th>569</th>\n",
              "      <td>0.294118</td>\n",
              "      <td>0.496774</td>\n",
              "      <td>0.456522</td>\n",
              "      <td>0.173913</td>\n",
              "      <td>0.131868</td>\n",
              "      <td>0.204604</td>\n",
              "      <td>0.074189</td>\n",
              "      <td>0.150000</td>\n",
              "      <td>0</td>\n",
              "    </tr>\n",
              "    <tr>\n",
              "      <th>570</th>\n",
              "      <td>0.058824</td>\n",
              "      <td>0.529032</td>\n",
              "      <td>0.326087</td>\n",
              "      <td>0.271739</td>\n",
              "      <td>0.122253</td>\n",
              "      <td>0.304348</td>\n",
              "      <td>0.120391</td>\n",
              "      <td>0.433333</td>\n",
              "      <td>1</td>\n",
              "    </tr>\n",
              "    <tr>\n",
              "      <th>571</th>\n",
              "      <td>0.058824</td>\n",
              "      <td>0.316129</td>\n",
              "      <td>0.434783</td>\n",
              "      <td>0.260870</td>\n",
              "      <td>0.122253</td>\n",
              "      <td>0.312020</td>\n",
              "      <td>0.105287</td>\n",
              "      <td>0.033333</td>\n",
              "      <td>0</td>\n",
              "    </tr>\n",
              "  </tbody>\n",
              "</table>\n",
              "<p>572 rows × 9 columns</p>\n",
              "</div>\n",
              "    <div class=\"colab-df-buttons\">\n",
              "\n",
              "  <div class=\"colab-df-container\">\n",
              "    <button class=\"colab-df-convert\" onclick=\"convertToInteractive('df-678b5471-0575-449e-b119-9ac71580219d')\"\n",
              "            title=\"Convert this dataframe to an interactive table.\"\n",
              "            style=\"display:none;\">\n",
              "\n",
              "  <svg xmlns=\"http://www.w3.org/2000/svg\" height=\"24px\" viewBox=\"0 -960 960 960\">\n",
              "    <path d=\"M120-120v-720h720v720H120Zm60-500h600v-160H180v160Zm220 220h160v-160H400v160Zm0 220h160v-160H400v160ZM180-400h160v-160H180v160Zm440 0h160v-160H620v160ZM180-180h160v-160H180v160Zm440 0h160v-160H620v160Z\"/>\n",
              "  </svg>\n",
              "    </button>\n",
              "\n",
              "  <style>\n",
              "    .colab-df-container {\n",
              "      display:flex;\n",
              "      gap: 12px;\n",
              "    }\n",
              "\n",
              "    .colab-df-convert {\n",
              "      background-color: #E8F0FE;\n",
              "      border: none;\n",
              "      border-radius: 50%;\n",
              "      cursor: pointer;\n",
              "      display: none;\n",
              "      fill: #1967D2;\n",
              "      height: 32px;\n",
              "      padding: 0 0 0 0;\n",
              "      width: 32px;\n",
              "    }\n",
              "\n",
              "    .colab-df-convert:hover {\n",
              "      background-color: #E2EBFA;\n",
              "      box-shadow: 0px 1px 2px rgba(60, 64, 67, 0.3), 0px 1px 3px 1px rgba(60, 64, 67, 0.15);\n",
              "      fill: #174EA6;\n",
              "    }\n",
              "\n",
              "    .colab-df-buttons div {\n",
              "      margin-bottom: 4px;\n",
              "    }\n",
              "\n",
              "    [theme=dark] .colab-df-convert {\n",
              "      background-color: #3B4455;\n",
              "      fill: #D2E3FC;\n",
              "    }\n",
              "\n",
              "    [theme=dark] .colab-df-convert:hover {\n",
              "      background-color: #434B5C;\n",
              "      box-shadow: 0px 1px 3px 1px rgba(0, 0, 0, 0.15);\n",
              "      filter: drop-shadow(0px 1px 2px rgba(0, 0, 0, 0.3));\n",
              "      fill: #FFFFFF;\n",
              "    }\n",
              "  </style>\n",
              "\n",
              "    <script>\n",
              "      const buttonEl =\n",
              "        document.querySelector('#df-678b5471-0575-449e-b119-9ac71580219d button.colab-df-convert');\n",
              "      buttonEl.style.display =\n",
              "        google.colab.kernel.accessAllowed ? 'block' : 'none';\n",
              "\n",
              "      async function convertToInteractive(key) {\n",
              "        const element = document.querySelector('#df-678b5471-0575-449e-b119-9ac71580219d');\n",
              "        const dataTable =\n",
              "          await google.colab.kernel.invokeFunction('convertToInteractive',\n",
              "                                                    [key], {});\n",
              "        if (!dataTable) return;\n",
              "\n",
              "        const docLinkHtml = 'Like what you see? Visit the ' +\n",
              "          '<a target=\"_blank\" href=https://colab.research.google.com/notebooks/data_table.ipynb>data table notebook</a>'\n",
              "          + ' to learn more about interactive tables.';\n",
              "        element.innerHTML = '';\n",
              "        dataTable['output_type'] = 'display_data';\n",
              "        await google.colab.output.renderOutput(dataTable, element);\n",
              "        const docLink = document.createElement('div');\n",
              "        docLink.innerHTML = docLinkHtml;\n",
              "        element.appendChild(docLink);\n",
              "      }\n",
              "    </script>\n",
              "  </div>\n",
              "\n",
              "\n",
              "<div id=\"df-3984d22d-5706-4cc5-b1ca-d37334ad9c5b\">\n",
              "  <button class=\"colab-df-quickchart\" onclick=\"quickchart('df-3984d22d-5706-4cc5-b1ca-d37334ad9c5b')\"\n",
              "            title=\"Suggest charts\"\n",
              "            style=\"display:none;\">\n",
              "\n",
              "<svg xmlns=\"http://www.w3.org/2000/svg\" height=\"24px\"viewBox=\"0 0 24 24\"\n",
              "     width=\"24px\">\n",
              "    <g>\n",
              "        <path d=\"M19 3H5c-1.1 0-2 .9-2 2v14c0 1.1.9 2 2 2h14c1.1 0 2-.9 2-2V5c0-1.1-.9-2-2-2zM9 17H7v-7h2v7zm4 0h-2V7h2v10zm4 0h-2v-4h2v4z\"/>\n",
              "    </g>\n",
              "</svg>\n",
              "  </button>\n",
              "\n",
              "<style>\n",
              "  .colab-df-quickchart {\n",
              "      --bg-color: #E8F0FE;\n",
              "      --fill-color: #1967D2;\n",
              "      --hover-bg-color: #E2EBFA;\n",
              "      --hover-fill-color: #174EA6;\n",
              "      --disabled-fill-color: #AAA;\n",
              "      --disabled-bg-color: #DDD;\n",
              "  }\n",
              "\n",
              "  [theme=dark] .colab-df-quickchart {\n",
              "      --bg-color: #3B4455;\n",
              "      --fill-color: #D2E3FC;\n",
              "      --hover-bg-color: #434B5C;\n",
              "      --hover-fill-color: #FFFFFF;\n",
              "      --disabled-bg-color: #3B4455;\n",
              "      --disabled-fill-color: #666;\n",
              "  }\n",
              "\n",
              "  .colab-df-quickchart {\n",
              "    background-color: var(--bg-color);\n",
              "    border: none;\n",
              "    border-radius: 50%;\n",
              "    cursor: pointer;\n",
              "    display: none;\n",
              "    fill: var(--fill-color);\n",
              "    height: 32px;\n",
              "    padding: 0;\n",
              "    width: 32px;\n",
              "  }\n",
              "\n",
              "  .colab-df-quickchart:hover {\n",
              "    background-color: var(--hover-bg-color);\n",
              "    box-shadow: 0 1px 2px rgba(60, 64, 67, 0.3), 0 1px 3px 1px rgba(60, 64, 67, 0.15);\n",
              "    fill: var(--button-hover-fill-color);\n",
              "  }\n",
              "\n",
              "  .colab-df-quickchart-complete:disabled,\n",
              "  .colab-df-quickchart-complete:disabled:hover {\n",
              "    background-color: var(--disabled-bg-color);\n",
              "    fill: var(--disabled-fill-color);\n",
              "    box-shadow: none;\n",
              "  }\n",
              "\n",
              "  .colab-df-spinner {\n",
              "    border: 2px solid var(--fill-color);\n",
              "    border-color: transparent;\n",
              "    border-bottom-color: var(--fill-color);\n",
              "    animation:\n",
              "      spin 1s steps(1) infinite;\n",
              "  }\n",
              "\n",
              "  @keyframes spin {\n",
              "    0% {\n",
              "      border-color: transparent;\n",
              "      border-bottom-color: var(--fill-color);\n",
              "      border-left-color: var(--fill-color);\n",
              "    }\n",
              "    20% {\n",
              "      border-color: transparent;\n",
              "      border-left-color: var(--fill-color);\n",
              "      border-top-color: var(--fill-color);\n",
              "    }\n",
              "    30% {\n",
              "      border-color: transparent;\n",
              "      border-left-color: var(--fill-color);\n",
              "      border-top-color: var(--fill-color);\n",
              "      border-right-color: var(--fill-color);\n",
              "    }\n",
              "    40% {\n",
              "      border-color: transparent;\n",
              "      border-right-color: var(--fill-color);\n",
              "      border-top-color: var(--fill-color);\n",
              "    }\n",
              "    60% {\n",
              "      border-color: transparent;\n",
              "      border-right-color: var(--fill-color);\n",
              "    }\n",
              "    80% {\n",
              "      border-color: transparent;\n",
              "      border-right-color: var(--fill-color);\n",
              "      border-bottom-color: var(--fill-color);\n",
              "    }\n",
              "    90% {\n",
              "      border-color: transparent;\n",
              "      border-bottom-color: var(--fill-color);\n",
              "    }\n",
              "  }\n",
              "</style>\n",
              "\n",
              "  <script>\n",
              "    async function quickchart(key) {\n",
              "      const quickchartButtonEl =\n",
              "        document.querySelector('#' + key + ' button');\n",
              "      quickchartButtonEl.disabled = true;  // To prevent multiple clicks.\n",
              "      quickchartButtonEl.classList.add('colab-df-spinner');\n",
              "      try {\n",
              "        const charts = await google.colab.kernel.invokeFunction(\n",
              "            'suggestCharts', [key], {});\n",
              "      } catch (error) {\n",
              "        console.error('Error during call to suggestCharts:', error);\n",
              "      }\n",
              "      quickchartButtonEl.classList.remove('colab-df-spinner');\n",
              "      quickchartButtonEl.classList.add('colab-df-quickchart-complete');\n",
              "    }\n",
              "    (() => {\n",
              "      let quickchartButtonEl =\n",
              "        document.querySelector('#df-3984d22d-5706-4cc5-b1ca-d37334ad9c5b button');\n",
              "      quickchartButtonEl.style.display =\n",
              "        google.colab.kernel.accessAllowed ? 'block' : 'none';\n",
              "    })();\n",
              "  </script>\n",
              "</div>\n",
              "    </div>\n",
              "  </div>\n"
            ]
          },
          "metadata": {},
          "execution_count": 9
        }
      ]
    },
    {
      "cell_type": "code",
      "source": [
        "sendToProfessor(scaled_df)"
      ],
      "metadata": {
        "id": "TDLXETLQf-Zy",
        "colab": {
          "base_uri": "https://localhost:8080/"
        },
        "outputId": "8ccb4486-0887-4598-f426-5a7e9dd5c9d4"
      },
      "execution_count": 10,
      "outputs": [
        {
          "output_type": "stream",
          "name": "stdout",
          "text": [
            " - Resposta do servidor:\n",
            " {\"status\":\"success\",\"dev_key\":\"M.L. - Maromba Learning\",\"accuracy\":0.6428571428571429,\"old_accuracy\":0.63265306122449} \n",
            "\n"
          ]
        }
      ]
    },
    {
      "cell_type": "markdown",
      "source": [
        "## Approach 5: Normalization"
      ],
      "metadata": {
        "id": "NiZceNh9gAE0"
      }
    },
    {
      "cell_type": "code",
      "source": [
        "from sklearn.preprocessing import StandardScaler\n",
        "\n",
        "scaler = StandardScaler()\n",
        "scaled = scaler.fit_transform(data_imputed_mf[feature_cols])\n",
        "scaled_df = getDataFrameFromArray(scaled)"
      ],
      "metadata": {
        "id": "BJANhfzRgB8a"
      },
      "execution_count": 15,
      "outputs": []
    },
    {
      "cell_type": "code",
      "source": [
        "sendToProfessor(scaled_df)"
      ],
      "metadata": {
        "id": "HVuPU0hViBe3",
        "colab": {
          "base_uri": "https://localhost:8080/"
        },
        "outputId": "a1f5ba53-581c-4a0b-d98b-06ac604e3d15"
      },
      "execution_count": 14,
      "outputs": [
        {
          "output_type": "stream",
          "name": "stdout",
          "text": [
            " - Resposta do servidor:\n",
            " {\"status\":\"success\",\"dev_key\":\"M.L. - Maromba Learning\",\"accuracy\":0.6428571428571429,\"old_accuracy\":0.64285714285714} \n",
            "\n"
          ]
        }
      ]
    }
  ]
}